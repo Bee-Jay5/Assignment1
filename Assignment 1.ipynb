{
 "cells": [
  {
   "cell_type": "code",
   "execution_count": 5,
   "id": "d58a622b",
   "metadata": {},
   "outputs": [
    {
     "ename": "SyntaxError",
     "evalue": "invalid syntax (1024141312.py, line 1)",
     "output_type": "error",
     "traceback": [
      "\u001b[1;36m  Cell \u001b[1;32mIn[5], line 1\u001b[1;36m\u001b[0m\n\u001b[1;33m    6 days = 100\u001b[0m\n\u001b[1;37m      ^\u001b[0m\n\u001b[1;31mSyntaxError\u001b[0m\u001b[1;31m:\u001b[0m invalid syntax\n"
     ]
    }
   ],
   "source": [
    "6 days = 100\n",
    "4 weeks = 6 days*4\n",
    "print(4 weeks)"
   ]
  },
  {
   "cell_type": "code",
   "execution_count": 1,
   "id": "ae9dad63",
   "metadata": {},
   "outputs": [
    {
     "name": "stdout",
     "output_type": "stream",
     "text": [
      "enter amount of fuel used in 6 days : 100\n",
      "400 litres of fuel used in 4 weeks\n",
      "1200 litres of fuel is used in 3 months \n"
     ]
    }
   ],
   "source": [
    "# a=6days\n",
    "# b=4weeks\n",
    "# c=3months\n",
    "# if 50 litres of fuel is used in 3 days then 100 litres of fuel will be used in 6 days \n",
    "a= input('enter amount of fuel used in 6 days : ')\n",
    "b=int (a)*int (4)\n",
    "print(b, 'litres of fuel used in 4 weeks')\n",
    "# since there's 4 weeks in a month 3months will be 4 weeks times 3\n",
    "c= int(b)*int(3)\n",
    "print(c, 'litres of fuel is used in 3 months ')\n"
   ]
  },
  {
   "cell_type": "code",
   "execution_count": null,
   "id": "78cc4431",
   "metadata": {},
   "outputs": [],
   "source": []
  }
 ],
 "metadata": {
  "kernelspec": {
   "display_name": "Python 3 (ipykernel)",
   "language": "python",
   "name": "python3"
  },
  "language_info": {
   "codemirror_mode": {
    "name": "ipython",
    "version": 3
   },
   "file_extension": ".py",
   "mimetype": "text/x-python",
   "name": "python",
   "nbconvert_exporter": "python",
   "pygments_lexer": "ipython3",
   "version": "3.11.1"
  }
 },
 "nbformat": 4,
 "nbformat_minor": 5
}
